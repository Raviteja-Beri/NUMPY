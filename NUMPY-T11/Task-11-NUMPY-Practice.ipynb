{
 "cells": [
  {
   "cell_type": "code",
   "execution_count": 1,
   "id": "0de390b3-8d4f-4331-9b77-ad40d42747fe",
   "metadata": {},
   "outputs": [],
   "source": [
    "import numpy as np"
   ]
  },
  {
   "cell_type": "code",
   "execution_count": 3,
   "id": "9a330612-fa09-499c-b5d1-9979da9987ee",
   "metadata": {},
   "outputs": [
    {
     "data": {
      "text/plain": [
       "'1.26.4'"
      ]
     },
     "execution_count": 3,
     "metadata": {},
     "output_type": "execute_result"
    }
   ],
   "source": [
    "np.__version__"
   ]
  },
  {
   "cell_type": "code",
   "execution_count": 5,
   "id": "6c27b266-9b18-4a57-82a7-c5bad56b38db",
   "metadata": {},
   "outputs": [
    {
     "data": {
      "text/plain": [
       "'3.12.7 | packaged by Anaconda, Inc. | (main, Oct  4 2024, 13:17:27) [MSC v.1929 64 bit (AMD64)]'"
      ]
     },
     "execution_count": 5,
     "metadata": {},
     "output_type": "execute_result"
    }
   ],
   "source": [
    "import sys\n",
    "sys.version"
   ]
  },
  {
   "cell_type": "code",
   "execution_count": 9,
   "id": "3526f890-fc37-4185-915f-61666c9ba10d",
   "metadata": {},
   "outputs": [
    {
     "data": {
      "text/plain": [
       "[0, 1, 2, 3, 4, 5]"
      ]
     },
     "execution_count": 9,
     "metadata": {},
     "output_type": "execute_result"
    }
   ],
   "source": [
    "my_list=[0,1,2,3,4,5]\n",
    "my_list"
   ]
  },
  {
   "cell_type": "code",
   "execution_count": 11,
   "id": "c6b68f3b-69ac-47bd-8e63-fc83c6512335",
   "metadata": {},
   "outputs": [
    {
     "data": {
      "text/plain": [
       "list"
      ]
     },
     "execution_count": 11,
     "metadata": {},
     "output_type": "execute_result"
    }
   ],
   "source": [
    "type(my_list)"
   ]
  },
  {
   "cell_type": "code",
   "execution_count": 13,
   "id": "68fcc4eb-3654-4fb4-b68f-9e6c2f388fa6",
   "metadata": {},
   "outputs": [],
   "source": [
    "arr=np.array(my_list)"
   ]
  },
  {
   "cell_type": "code",
   "execution_count": 15,
   "id": "180a17fa-529b-4730-9eae-a57b450f3d8f",
   "metadata": {},
   "outputs": [
    {
     "data": {
      "text/plain": [
       "array([0, 1, 2, 3, 4, 5])"
      ]
     },
     "execution_count": 15,
     "metadata": {},
     "output_type": "execute_result"
    }
   ],
   "source": [
    "arr"
   ]
  },
  {
   "cell_type": "code",
   "execution_count": 17,
   "id": "39e72b36-31fc-4a07-bf3d-ee2fd69b758e",
   "metadata": {},
   "outputs": [
    {
     "data": {
      "text/plain": [
       "numpy.ndarray"
      ]
     },
     "execution_count": 17,
     "metadata": {},
     "output_type": "execute_result"
    }
   ],
   "source": [
    "type(arr)"
   ]
  },
  {
   "cell_type": "markdown",
   "id": "f7709989-c562-43b1-8435-505d79886cf1",
   "metadata": {},
   "source": [
    "### 1.arange() = It gives the values upto the given range."
   ]
  },
  {
   "cell_type": "code",
   "execution_count": 21,
   "id": "6c08f591-68e5-4a75-a80c-15ad26ff862a",
   "metadata": {},
   "outputs": [
    {
     "data": {
      "text/plain": [
       "array([ 0,  1,  2,  3,  4,  5,  6,  7,  8,  9, 10, 11, 12, 13, 14])"
      ]
     },
     "execution_count": 21,
     "metadata": {},
     "output_type": "execute_result"
    }
   ],
   "source": [
    "np.arange(15) # n-1 = 15-1 ==> 14 [0 to 14]"
   ]
  },
  {
   "cell_type": "code",
   "execution_count": 23,
   "id": "215c9aba-01f4-41af-9a76-8c1ac62d0190",
   "metadata": {},
   "outputs": [
    {
     "data": {
      "text/plain": [
       "array([0., 1., 2.])"
      ]
     },
     "execution_count": 23,
     "metadata": {},
     "output_type": "execute_result"
    }
   ],
   "source": [
    "np.arange(3.0) # By default the output is given in float wise."
   ]
  },
  {
   "cell_type": "code",
   "execution_count": 25,
   "id": "d492cfb9-7c31-4c83-8ab5-0ac8e30c297c",
   "metadata": {},
   "outputs": [
    {
     "data": {
      "text/plain": [
       "array([0, 1, 2])"
      ]
     },
     "execution_count": 25,
     "metadata": {},
     "output_type": "execute_result"
    }
   ],
   "source": [
    "np.arange(3, dtype=int) # iam changing it to integer type.so, 'dtype= datatype' that is \"int\"\n",
    "                        # Its a 1D Array."
   ]
  },
  {
   "cell_type": "code",
   "execution_count": 29,
   "id": "041c434b-c271-47b7-8697-7346d298bcc7",
   "metadata": {},
   "outputs": [
    {
     "data": {
      "text/plain": [
       "array([0, 1, 2, 3, 4, 5, 6, 7, 8, 9])"
      ]
     },
     "execution_count": 29,
     "metadata": {},
     "output_type": "execute_result"
    }
   ],
   "source": [
    "np.arange(10)"
   ]
  },
  {
   "cell_type": "code",
   "execution_count": 31,
   "id": "4be5330f-3e81-4d0a-8c99-7b25c6119b96",
   "metadata": {},
   "outputs": [
    {
     "data": {
      "text/plain": [
       "array([0, 1, 2, 3, 4])"
      ]
     },
     "execution_count": 31,
     "metadata": {},
     "output_type": "execute_result"
    }
   ],
   "source": [
    "np.arange(0,5) # it gives output from 0 to \"n-1\" i.e.., 0 to 4"
   ]
  },
  {
   "cell_type": "code",
   "execution_count": 33,
   "id": "8cfb77be-0289-4c12-be9d-bdf41d5c719c",
   "metadata": {},
   "outputs": [
    {
     "data": {
      "text/plain": [
       "array([], dtype=int32)"
      ]
     },
     "execution_count": 33,
     "metadata": {},
     "output_type": "execute_result"
    }
   ],
   "source": [
    "np.arange(20,10) # Always starting index should be greater than the stopping index."
   ]
  },
  {
   "cell_type": "code",
   "execution_count": 35,
   "id": "40dae1d6-7cd1-45ec-9b54-9f281e59e1f3",
   "metadata": {},
   "outputs": [
    {
     "data": {
      "text/plain": [
       "array([-20, -19, -18, -17, -16, -15, -14, -13, -12, -11, -10,  -9,  -8,\n",
       "        -7,  -6,  -5,  -4,  -3,  -2,  -1,   0,   1,   2,   3,   4,   5,\n",
       "         6,   7,   8,   9])"
      ]
     },
     "execution_count": 35,
     "metadata": {},
     "output_type": "execute_result"
    }
   ],
   "source": [
    "np.arange(-20,10) # it gives values from -20 to 10"
   ]
  },
  {
   "cell_type": "code",
   "execution_count": 37,
   "id": "c6e947a6-8dfa-4c79-bfc6-6c80f3f2f0ee",
   "metadata": {},
   "outputs": [
    {
     "data": {
      "text/plain": [
       "array([-16, -15, -14, -13, -12, -11, -10,  -9,  -8,  -7,  -6,  -5,  -4,\n",
       "        -3,  -2,  -1,   0,   1,   2,   3,   4,   5,   6,   7,   8,   9])"
      ]
     },
     "execution_count": 37,
     "metadata": {},
     "output_type": "execute_result"
    }
   ],
   "source": [
    "np.arange(-16,10)"
   ]
  },
  {
   "cell_type": "code",
   "execution_count": 41,
   "id": "c95ee0ee-7e0e-471e-b434-a7cdeeb5e748",
   "metadata": {},
   "outputs": [
    {
     "data": {
      "text/plain": [
       "array([-30, -29, -28, -27, -26, -25, -24, -23, -22, -21, -20, -19, -18,\n",
       "       -17, -16, -15, -14, -13, -12, -11, -10,  -9,  -8,  -7,  -6,  -5,\n",
       "        -4,  -3,  -2,  -1,   0,   1,   2,   3,   4,   5,   6,   7,   8,\n",
       "         9,  10,  11,  12,  13,  14,  15,  16,  17,  18,  19])"
      ]
     },
     "execution_count": 41,
     "metadata": {},
     "output_type": "execute_result"
    }
   ],
   "source": [
    "arr=np.arange(-30,20) # we can alos write like this as well.\n",
    "arr"
   ]
  },
  {
   "cell_type": "code",
   "execution_count": 43,
   "id": "931bf1ba-10a0-451a-99a1-cc66b2612f17",
   "metadata": {},
   "outputs": [
    {
     "data": {
      "text/plain": [
       "array([], dtype=int32)"
      ]
     },
     "execution_count": 43,
     "metadata": {},
     "output_type": "execute_result"
    }
   ],
   "source": [
    "np.arange(10,10) # It cannot be same, starting index should be less than stopping index."
   ]
  },
  {
   "cell_type": "code",
   "execution_count": 45,
   "id": "ff5036ae-24a3-45c7-aeb7-a7f30fb71881",
   "metadata": {},
   "outputs": [
    {
     "ename": "TypeError",
     "evalue": "arange() requires stop to be specified.",
     "output_type": "error",
     "traceback": [
      "\u001b[1;31m---------------------------------------------------------------------------\u001b[0m",
      "\u001b[1;31mTypeError\u001b[0m                                 Traceback (most recent call last)",
      "Cell \u001b[1;32mIn[45], line 1\u001b[0m\n\u001b[1;32m----> 1\u001b[0m np\u001b[38;5;241m.\u001b[39marange()\n",
      "\u001b[1;31mTypeError\u001b[0m: arange() requires stop to be specified."
     ]
    }
   ],
   "source": [
    "np.arange() # Atleast stopping argument should be given when we have one argument."
   ]
  },
  {
   "cell_type": "code",
   "execution_count": 47,
   "id": "bc5c2ca8-fafc-44f9-8c39-9769aefff8d9",
   "metadata": {},
   "outputs": [
    {
     "data": {
      "text/plain": [
       "array([0, 2, 4, 6, 8])"
      ]
     },
     "execution_count": 47,
     "metadata": {},
     "output_type": "execute_result"
    }
   ],
   "source": [
    "np.arange(0,10,2) # 0=starting number, 10=stopping number, 2=step index\n",
    "                  # Even numbers"
   ]
  },
  {
   "cell_type": "code",
   "execution_count": 49,
   "id": "94a156bd-8044-4e59-b7be-761504427603",
   "metadata": {},
   "outputs": [
    {
     "data": {
      "text/plain": [
       "array([0, 3, 6, 9])"
      ]
     },
     "execution_count": 49,
     "metadata": {},
     "output_type": "execute_result"
    }
   ],
   "source": [
    "np.arange(0,10,3) # Odd numbers"
   ]
  },
  {
   "cell_type": "code",
   "execution_count": 51,
   "id": "ff8fc8ae-cc0c-48a5-80ef-c6ef9173675b",
   "metadata": {},
   "outputs": [
    {
     "ename": "TypeError",
     "evalue": "Cannot interpret '8' as a data type",
     "output_type": "error",
     "traceback": [
      "\u001b[1;31m---------------------------------------------------------------------------\u001b[0m",
      "\u001b[1;31mTypeError\u001b[0m                                 Traceback (most recent call last)",
      "Cell \u001b[1;32mIn[51], line 1\u001b[0m\n\u001b[1;32m----> 1\u001b[0m np\u001b[38;5;241m.\u001b[39marange(\u001b[38;5;241m0\u001b[39m,\u001b[38;5;241m10\u001b[39m,\u001b[38;5;241m4\u001b[39m,\u001b[38;5;241m8\u001b[39m)\n",
      "\u001b[1;31mTypeError\u001b[0m: Cannot interpret '8' as a data type"
     ]
    }
   ],
   "source": [
    "np.arange(0,10,4,8) # It won't take 4 args"
   ]
  },
  {
   "cell_type": "markdown",
   "id": "e09bd096-d05a-494e-828c-be381bcc826d",
   "metadata": {},
   "source": [
    "### 2. Zeros() = Always printing zeros according to the attributes given."
   ]
  },
  {
   "cell_type": "code",
   "execution_count": 54,
   "id": "592a4e5d-8025-43ba-9d9f-3b346ae60174",
   "metadata": {},
   "outputs": [
    {
     "data": {
      "text/plain": [
       "array([0., 0., 0.])"
      ]
     },
     "execution_count": 54,
     "metadata": {},
     "output_type": "execute_result"
    }
   ],
   "source": [
    "np.zeros(3) # 1D Array and It is called \"Parameter Tuning\" because, default is float numbers"
   ]
  },
  {
   "cell_type": "code",
   "execution_count": 56,
   "id": "dc1eef1c-81d9-481c-b5e9-f8153040b9e6",
   "metadata": {},
   "outputs": [
    {
     "data": {
      "text/plain": [
       "array([0, 0, 0])"
      ]
     },
     "execution_count": 56,
     "metadata": {},
     "output_type": "execute_result"
    }
   ],
   "source": [
    "np.zeros(3,dtype=int) # It is called Hyper parameter because, we changed it from float to Integer type"
   ]
  },
  {
   "cell_type": "code",
   "execution_count": 58,
   "id": "e179ab49-978f-4b0b-a2d1-406607f52c9e",
   "metadata": {},
   "outputs": [
    {
     "data": {
      "text/plain": [
       "array([[0., 0.],\n",
       "       [0., 0.]])"
      ]
     },
     "execution_count": 58,
     "metadata": {},
     "output_type": "execute_result"
    }
   ],
   "source": [
    "np.zeros((2,2)) # 2D Array, default float value. You need to give double braces otherwise it won't recognize and won't give you output."
   ]
  },
  {
   "cell_type": "code",
   "execution_count": 60,
   "id": "27d6849a-48a7-4e63-9902-9b3a04fb5ea9",
   "metadata": {},
   "outputs": [
    {
     "data": {
      "text/plain": [
       "array([[0, 0],\n",
       "       [0, 0]])"
      ]
     },
     "execution_count": 60,
     "metadata": {},
     "output_type": "execute_result"
    }
   ],
   "source": [
    "np.zeros((2,2),dtype=int) # Integer type"
   ]
  },
  {
   "cell_type": "code",
   "execution_count": 62,
   "id": "58f1eb02-b7eb-418d-a577-8083efdc7d81",
   "metadata": {},
   "outputs": [
    {
     "name": "stdout",
     "output_type": "stream",
     "text": [
      "[[0. 0.]\n",
      " [0. 0.]]\n",
      "<class 'numpy.ndarray'>\n"
     ]
    }
   ],
   "source": [
    "zero=np.zeros((2,2)) # You can aslo write like this.\n",
    "print(zero)\n",
    "print(type(zero))"
   ]
  },
  {
   "cell_type": "code",
   "execution_count": 64,
   "id": "58d56207-1c18-479e-9083-065ce73f16c7",
   "metadata": {},
   "outputs": [
    {
     "name": "stdout",
     "output_type": "stream",
     "text": [
      "[[0 0]\n",
      " [0 0]]\n",
      "<class 'numpy.ndarray'>\n"
     ]
    }
   ],
   "source": [
    "zero=np.zeros((2,2),dtype=int)\n",
    "print(zero)\n",
    "print(type(zero))"
   ]
  },
  {
   "cell_type": "code",
   "execution_count": 66,
   "id": "ce8de46a-b1a1-4f24-81da-2d612a2126f6",
   "metadata": {},
   "outputs": [
    {
     "data": {
      "text/plain": [
       "array([[0., 0., 0., 0., 0., 0.],\n",
       "       [0., 0., 0., 0., 0., 0.],\n",
       "       [0., 0., 0., 0., 0., 0.],\n",
       "       [0., 0., 0., 0., 0., 0.]])"
      ]
     },
     "execution_count": 66,
     "metadata": {},
     "output_type": "execute_result"
    }
   ],
   "source": [
    "np.zeros((4,6)) # 4=rows & 6=columns"
   ]
  },
  {
   "cell_type": "code",
   "execution_count": 68,
   "id": "d9da0954-1f01-4e6c-80b3-4cefad37c34f",
   "metadata": {},
   "outputs": [
    {
     "data": {
      "text/plain": [
       "array([[0., 0., 0.],\n",
       "       [0., 0., 0.],\n",
       "       [0., 0., 0.]])"
      ]
     },
     "execution_count": 68,
     "metadata": {},
     "output_type": "execute_result"
    }
   ],
   "source": [
    "np.zeros((3,3)) # whenever you are giving more than one arg then you need to use double braces"
   ]
  },
  {
   "cell_type": "code",
   "execution_count": 70,
   "id": "2853c90b-2068-4054-bfb2-3cd14bc84f35",
   "metadata": {},
   "outputs": [
    {
     "data": {
      "text/plain": [
       "array([[0., 0., 0., 0., 0., 0., 0., 0., 0., 0., 0., 0., 0., 0., 0., 0.,\n",
       "        0., 0., 0., 0., 0., 0., 0., 0., 0., 0., 0., 0., 0., 0.],\n",
       "       [0., 0., 0., 0., 0., 0., 0., 0., 0., 0., 0., 0., 0., 0., 0., 0.,\n",
       "        0., 0., 0., 0., 0., 0., 0., 0., 0., 0., 0., 0., 0., 0.],\n",
       "       [0., 0., 0., 0., 0., 0., 0., 0., 0., 0., 0., 0., 0., 0., 0., 0.,\n",
       "        0., 0., 0., 0., 0., 0., 0., 0., 0., 0., 0., 0., 0., 0.],\n",
       "       [0., 0., 0., 0., 0., 0., 0., 0., 0., 0., 0., 0., 0., 0., 0., 0.,\n",
       "        0., 0., 0., 0., 0., 0., 0., 0., 0., 0., 0., 0., 0., 0.],\n",
       "       [0., 0., 0., 0., 0., 0., 0., 0., 0., 0., 0., 0., 0., 0., 0., 0.,\n",
       "        0., 0., 0., 0., 0., 0., 0., 0., 0., 0., 0., 0., 0., 0.],\n",
       "       [0., 0., 0., 0., 0., 0., 0., 0., 0., 0., 0., 0., 0., 0., 0., 0.,\n",
       "        0., 0., 0., 0., 0., 0., 0., 0., 0., 0., 0., 0., 0., 0.],\n",
       "       [0., 0., 0., 0., 0., 0., 0., 0., 0., 0., 0., 0., 0., 0., 0., 0.,\n",
       "        0., 0., 0., 0., 0., 0., 0., 0., 0., 0., 0., 0., 0., 0.],\n",
       "       [0., 0., 0., 0., 0., 0., 0., 0., 0., 0., 0., 0., 0., 0., 0., 0.,\n",
       "        0., 0., 0., 0., 0., 0., 0., 0., 0., 0., 0., 0., 0., 0.],\n",
       "       [0., 0., 0., 0., 0., 0., 0., 0., 0., 0., 0., 0., 0., 0., 0., 0.,\n",
       "        0., 0., 0., 0., 0., 0., 0., 0., 0., 0., 0., 0., 0., 0.],\n",
       "       [0., 0., 0., 0., 0., 0., 0., 0., 0., 0., 0., 0., 0., 0., 0., 0.,\n",
       "        0., 0., 0., 0., 0., 0., 0., 0., 0., 0., 0., 0., 0., 0.]])"
      ]
     },
     "execution_count": 70,
     "metadata": {},
     "output_type": "execute_result"
    }
   ],
   "source": [
    "np.zeros((10,30))"
   ]
  },
  {
   "cell_type": "code",
   "execution_count": 72,
   "id": "c0a32ff5-e8cd-4605-bc5d-50a87869923e",
   "metadata": {},
   "outputs": [
    {
     "data": {
      "text/plain": [
       "array([[0., 0., 0., 0., 0., 0., 0., 0., 0., 0.],\n",
       "       [0., 0., 0., 0., 0., 0., 0., 0., 0., 0.],\n",
       "       [0., 0., 0., 0., 0., 0., 0., 0., 0., 0.],\n",
       "       [0., 0., 0., 0., 0., 0., 0., 0., 0., 0.],\n",
       "       [0., 0., 0., 0., 0., 0., 0., 0., 0., 0.]])"
      ]
     },
     "execution_count": 72,
     "metadata": {},
     "output_type": "execute_result"
    }
   ],
   "source": [
    "np.zeros((5,10))"
   ]
  },
  {
   "cell_type": "code",
   "execution_count": 74,
   "id": "8d97f8dd-a95b-4808-ab88-bdb46caf7254",
   "metadata": {},
   "outputs": [
    {
     "name": "stdout",
     "output_type": "stream",
     "text": [
      "[[0. 0. 0. 0. 0. 0. 0. 0.]\n",
      " [0. 0. 0. 0. 0. 0. 0. 0.]\n",
      " [0. 0. 0. 0. 0. 0. 0. 0.]\n",
      " [0. 0. 0. 0. 0. 0. 0. 0.]\n",
      " [0. 0. 0. 0. 0. 0. 0. 0.]\n",
      " [0. 0. 0. 0. 0. 0. 0. 0.]]\n"
     ]
    }
   ],
   "source": [
    "n1=(6,8) # we can write like this as well\n",
    "print(np.zeros(n1)) # Parameter Tuning"
   ]
  },
  {
   "cell_type": "code",
   "execution_count": 78,
   "id": "2b99e8b3-f0e2-49c3-ac98-f13df9fc3465",
   "metadata": {},
   "outputs": [
    {
     "name": "stdout",
     "output_type": "stream",
     "text": [
      "[[0 0 0 0 0 0 0 0]\n",
      " [0 0 0 0 0 0 0 0]\n",
      " [0 0 0 0 0 0 0 0]\n",
      " [0 0 0 0 0 0 0 0]\n",
      " [0 0 0 0 0 0 0 0]\n",
      " [0 0 0 0 0 0 0 0]]\n"
     ]
    }
   ],
   "source": [
    "n1=(6,8) # Hyperparamter Tuning\n",
    "print(np.zeros(n1,dtype=int))"
   ]
  },
  {
   "cell_type": "markdown",
   "id": "b3c02a13-5f11-4e06-9b98-5ac2993c649a",
   "metadata": {},
   "source": [
    "### 3. Ones() = Always printing ones according to the attributes given."
   ]
  },
  {
   "cell_type": "code",
   "execution_count": 1,
   "id": "4cbcd5d0-916c-45df-b783-44b667e0b178",
   "metadata": {},
   "outputs": [],
   "source": [
    "import numpy as np"
   ]
  },
  {
   "cell_type": "code",
   "execution_count": 3,
   "id": "2745033b-a46f-4d63-bd16-a5aa50d769a8",
   "metadata": {},
   "outputs": [
    {
     "data": {
      "text/plain": [
       "array([1., 1., 1.])"
      ]
     },
     "execution_count": 3,
     "metadata": {},
     "output_type": "execute_result"
    }
   ],
   "source": [
    "np.ones(3) # It prints ones [default float number value]"
   ]
  },
  {
   "cell_type": "code",
   "execution_count": 5,
   "id": "2febcbf0-0a7b-4b5c-beb7-20afac253c7c",
   "metadata": {},
   "outputs": [
    {
     "data": {
      "text/plain": [
       "array([1, 1, 1])"
      ]
     },
     "execution_count": 5,
     "metadata": {},
     "output_type": "execute_result"
    }
   ],
   "source": [
    "np.ones(3,dtype=int) # Integer type"
   ]
  },
  {
   "cell_type": "code",
   "execution_count": 7,
   "id": "744e4a22-f24e-4180-8afd-b4e3baf29d2d",
   "metadata": {},
   "outputs": [
    {
     "data": {
      "text/plain": [
       "array([1., 1., 1., 1.])"
      ]
     },
     "execution_count": 7,
     "metadata": {},
     "output_type": "execute_result"
    }
   ],
   "source": [
    "np.ones(4)"
   ]
  },
  {
   "cell_type": "code",
   "execution_count": 9,
   "id": "f52d0636-e41d-484f-a3c2-9ccc19c6eb61",
   "metadata": {},
   "outputs": [
    {
     "data": {
      "text/plain": [
       "array([1, 1, 1, 1])"
      ]
     },
     "execution_count": 9,
     "metadata": {},
     "output_type": "execute_result"
    }
   ],
   "source": [
    "np.ones(4,dtype=int)"
   ]
  },
  {
   "cell_type": "code",
   "execution_count": 11,
   "id": "d97287bf-9b97-44c6-ba51-2cdb7d56c1c6",
   "metadata": {},
   "outputs": [
    {
     "data": {
      "text/plain": [
       "array([[1., 1., 1., 1.],\n",
       "       [1., 1., 1., 1.],\n",
       "       [1., 1., 1., 1.]])"
      ]
     },
     "execution_count": 11,
     "metadata": {},
     "output_type": "execute_result"
    }
   ],
   "source": [
    "np.ones((3,4)) # rows=3, columns=4"
   ]
  },
  {
   "cell_type": "code",
   "execution_count": 13,
   "id": "04c5b5b1-f68d-4afb-b8cd-d3285389d011",
   "metadata": {},
   "outputs": [
    {
     "data": {
      "text/plain": [
       "array([[1, 1, 1, 1],\n",
       "       [1, 1, 1, 1],\n",
       "       [1, 1, 1, 1]])"
      ]
     },
     "execution_count": 13,
     "metadata": {},
     "output_type": "execute_result"
    }
   ],
   "source": [
    "np.ones((3,4),dtype=int)"
   ]
  },
  {
   "cell_type": "code",
   "execution_count": null,
   "id": "90c47ce1-9358-4c80-a19c-b5e72917e684",
   "metadata": {},
   "outputs": [],
   "source": [
    "np.[tab] # It gives all the inbuilt functions"
   ]
  },
  {
   "cell_type": "code",
   "execution_count": 15,
   "id": "80f2bc48-1de7-4eb2-a1b5-0e36198b91bc",
   "metadata": {},
   "outputs": [
    {
     "ename": "AttributeError",
     "evalue": "module 'numpy' has no attribute 'twos'",
     "output_type": "error",
     "traceback": [
      "\u001b[1;31m---------------------------------------------------------------------------\u001b[0m",
      "\u001b[1;31mAttributeError\u001b[0m                            Traceback (most recent call last)",
      "Cell \u001b[1;32mIn[15], line 1\u001b[0m\n\u001b[1;32m----> 1\u001b[0m np\u001b[38;5;241m.\u001b[39mtwos(\u001b[38;5;241m3\u001b[39m)\n",
      "File \u001b[1;32mC:\\anaconda\\Lib\\site-packages\\numpy\\__init__.py:333\u001b[0m, in \u001b[0;36m__getattr__\u001b[1;34m(attr)\u001b[0m\n\u001b[0;32m    330\u001b[0m     \u001b[38;5;124m\"\u001b[39m\u001b[38;5;124mRemoved in NumPy 1.25.0\u001b[39m\u001b[38;5;124m\"\u001b[39m\n\u001b[0;32m    331\u001b[0m     \u001b[38;5;28;01mraise\u001b[39;00m \u001b[38;5;167;01mRuntimeError\u001b[39;00m(\u001b[38;5;124m\"\u001b[39m\u001b[38;5;124mTester was removed in NumPy 1.25.\u001b[39m\u001b[38;5;124m\"\u001b[39m)\n\u001b[1;32m--> 333\u001b[0m \u001b[38;5;28;01mraise\u001b[39;00m \u001b[38;5;167;01mAttributeError\u001b[39;00m(\u001b[38;5;124m\"\u001b[39m\u001b[38;5;124mmodule \u001b[39m\u001b[38;5;132;01m{!r}\u001b[39;00m\u001b[38;5;124m has no attribute \u001b[39m\u001b[38;5;124m\"\u001b[39m\n\u001b[0;32m    334\u001b[0m                      \u001b[38;5;124m\"\u001b[39m\u001b[38;5;132;01m{!r}\u001b[39;00m\u001b[38;5;124m\"\u001b[39m\u001b[38;5;241m.\u001b[39mformat(\u001b[38;5;18m__name__\u001b[39m, attr))\n",
      "\u001b[1;31mAttributeError\u001b[0m: module 'numpy' has no attribute 'twos'"
     ]
    }
   ],
   "source": [
    "np.twos(3) # There is no 'twos' function in the inbuilt functions"
   ]
  },
  {
   "cell_type": "code",
   "execution_count": 17,
   "id": "253e6d50-240e-4038-9529-aafe02b32006",
   "metadata": {},
   "outputs": [
    {
     "ename": "AttributeError",
     "evalue": "module 'numpy' has no attribute 'threes'",
     "output_type": "error",
     "traceback": [
      "\u001b[1;31m---------------------------------------------------------------------------\u001b[0m",
      "\u001b[1;31mAttributeError\u001b[0m                            Traceback (most recent call last)",
      "Cell \u001b[1;32mIn[17], line 1\u001b[0m\n\u001b[1;32m----> 1\u001b[0m np\u001b[38;5;241m.\u001b[39mthrees(\u001b[38;5;241m3\u001b[39m)\n",
      "File \u001b[1;32mC:\\anaconda\\Lib\\site-packages\\numpy\\__init__.py:333\u001b[0m, in \u001b[0;36m__getattr__\u001b[1;34m(attr)\u001b[0m\n\u001b[0;32m    330\u001b[0m     \u001b[38;5;124m\"\u001b[39m\u001b[38;5;124mRemoved in NumPy 1.25.0\u001b[39m\u001b[38;5;124m\"\u001b[39m\n\u001b[0;32m    331\u001b[0m     \u001b[38;5;28;01mraise\u001b[39;00m \u001b[38;5;167;01mRuntimeError\u001b[39;00m(\u001b[38;5;124m\"\u001b[39m\u001b[38;5;124mTester was removed in NumPy 1.25.\u001b[39m\u001b[38;5;124m\"\u001b[39m)\n\u001b[1;32m--> 333\u001b[0m \u001b[38;5;28;01mraise\u001b[39;00m \u001b[38;5;167;01mAttributeError\u001b[39;00m(\u001b[38;5;124m\"\u001b[39m\u001b[38;5;124mmodule \u001b[39m\u001b[38;5;132;01m{!r}\u001b[39;00m\u001b[38;5;124m has no attribute \u001b[39m\u001b[38;5;124m\"\u001b[39m\n\u001b[0;32m    334\u001b[0m                      \u001b[38;5;124m\"\u001b[39m\u001b[38;5;132;01m{!r}\u001b[39;00m\u001b[38;5;124m\"\u001b[39m\u001b[38;5;241m.\u001b[39mformat(\u001b[38;5;18m__name__\u001b[39m, attr))\n",
      "\u001b[1;31mAttributeError\u001b[0m: module 'numpy' has no attribute 'threes'"
     ]
    }
   ],
   "source": [
    "np.threes(3) # There is no 'threes' function in the inbuilt functions"
   ]
  },
  {
   "cell_type": "markdown",
   "id": "267f9f36-f60b-4260-904f-79863aa693f0",
   "metadata": {},
   "source": [
    "### 4. rand() =  It gives random values. The output changes each time when you run the code."
   ]
  },
  {
   "cell_type": "code",
   "execution_count": 20,
   "id": "14a8769d-1d5b-425a-b193-1a95b45fbea1",
   "metadata": {},
   "outputs": [
    {
     "ename": "NameError",
     "evalue": "name 'rand' is not defined",
     "output_type": "error",
     "traceback": [
      "\u001b[1;31m---------------------------------------------------------------------------\u001b[0m",
      "\u001b[1;31mNameError\u001b[0m                                 Traceback (most recent call last)",
      "Cell \u001b[1;32mIn[20], line 1\u001b[0m\n\u001b[1;32m----> 1\u001b[0m rand(\u001b[38;5;241m3\u001b[39m)\n",
      "\u001b[1;31mNameError\u001b[0m: name 'rand' is not defined"
     ]
    }
   ],
   "source": [
    "rand(3) # It throws you an error because you have only given function. there is no package and module."
   ]
  },
  {
   "cell_type": "code",
   "execution_count": 22,
   "id": "9907a5c7-1ac3-45b9-b8e8-8ab4afed0d0d",
   "metadata": {},
   "outputs": [
    {
     "ename": "NameError",
     "evalue": "name 'random' is not defined",
     "output_type": "error",
     "traceback": [
      "\u001b[1;31m---------------------------------------------------------------------------\u001b[0m",
      "\u001b[1;31mNameError\u001b[0m                                 Traceback (most recent call last)",
      "Cell \u001b[1;32mIn[22], line 1\u001b[0m\n\u001b[1;32m----> 1\u001b[0m random\u001b[38;5;241m.\u001b[39mrand(\u001b[38;5;241m3\u001b[39m)\n",
      "\u001b[1;31mNameError\u001b[0m: name 'random' is not defined"
     ]
    }
   ],
   "source": [
    "random.rand(3) # Here package is missing i.e., numpy(np). so it gives an error."
   ]
  },
  {
   "cell_type": "code",
   "execution_count": 24,
   "id": "c41b18d5-7e83-400d-85fa-b3d9fe069475",
   "metadata": {},
   "outputs": [
    {
     "data": {
      "text/plain": [
       "array([0.72254938, 0.64148436, 0.6862668 ])"
      ]
     },
     "execution_count": 24,
     "metadata": {},
     "output_type": "execute_result"
    }
   ],
   "source": [
    "np.random.rand(3) # where as, np = package, random=module, rand=function."
   ]
  },
  {
   "cell_type": "code",
   "execution_count": 26,
   "id": "50578e17-f354-4531-819f-16e5a3a553b8",
   "metadata": {},
   "outputs": [
    {
     "data": {
      "text/plain": [
       "array([0.9935912 , 0.16880993, 0.32696745])"
      ]
     },
     "execution_count": 26,
     "metadata": {},
     "output_type": "execute_result"
    }
   ],
   "source": [
    "np.random.rand(3) # verytime the output changes,"
   ]
  },
  {
   "cell_type": "code",
   "execution_count": 28,
   "id": "df9da5a1-b0b6-441f-8188-d8bd75fa92a4",
   "metadata": {},
   "outputs": [
    {
     "data": {
      "text/plain": [
       "array([[0.08702203, 0.78193209],\n",
       "       [0.43762302, 0.39581016],\n",
       "       [0.94686123, 0.5259841 ]])"
      ]
     },
     "execution_count": 28,
     "metadata": {},
     "output_type": "execute_result"
    }
   ],
   "source": [
    "np.random.rand(3,2) # rows=3, columns=2"
   ]
  },
  {
   "cell_type": "code",
   "execution_count": 30,
   "id": "ca9ce0e8-a615-4e79-ae71-506996a1f0f4",
   "metadata": {},
   "outputs": [
    {
     "data": {
      "text/plain": [
       "array([[0.34983792, 0.89601301, 0.60422184, 0.78569603],\n",
       "       [0.92852143, 0.95457177, 0.75287387, 0.8725135 ],\n",
       "       [0.37050577, 0.2244324 , 0.1390969 , 0.05552384],\n",
       "       [0.60873429, 0.5225205 , 0.44900936, 0.13400932]])"
      ]
     },
     "execution_count": 30,
     "metadata": {},
     "output_type": "execute_result"
    }
   ],
   "source": [
    "np.random.rand(4,4) # By default it gives float values"
   ]
  },
  {
   "cell_type": "code",
   "execution_count": 52,
   "id": "3cf10489-5fbc-4a1a-8976-fee4f6a170f2",
   "metadata": {},
   "outputs": [
    {
     "data": {
      "text/plain": [
       "array([[[0.96408127, 0.08109996],\n",
       "        [0.02689665, 0.16296667],\n",
       "        [0.89759205, 0.03822517],\n",
       "        [0.10681329, 0.34953458],\n",
       "        [0.37886403, 0.93482402],\n",
       "        [0.98580511, 0.162737  ],\n",
       "        [0.29237585, 0.79693733],\n",
       "        [0.58863301, 0.42490946],\n",
       "        [0.7495613 , 0.5843497 ],\n",
       "        [0.8340645 , 0.99542422]],\n",
       "\n",
       "       [[0.85049278, 0.78563111],\n",
       "        [0.34836859, 0.94454745],\n",
       "        [0.98713786, 0.49661569],\n",
       "        [0.79633365, 0.1134599 ],\n",
       "        [0.02217387, 0.41762314],\n",
       "        [0.72783046, 0.60526699],\n",
       "        [0.5984419 , 0.33915733],\n",
       "        [0.84303341, 0.76613188],\n",
       "        [0.84223986, 0.88697644],\n",
       "        [0.54903101, 0.62922617]],\n",
       "\n",
       "       [[0.37630471, 0.47513881],\n",
       "        [0.47038701, 0.51641953],\n",
       "        [0.19696362, 0.04106931],\n",
       "        [0.89690378, 0.49965239],\n",
       "        [0.88389046, 0.83214637],\n",
       "        [0.31600935, 0.99747977],\n",
       "        [0.84543719, 0.30615926],\n",
       "        [0.57039691, 0.71655169],\n",
       "        [0.17102922, 0.39670062],\n",
       "        [0.93792152, 0.4139072 ]],\n",
       "\n",
       "       [[0.6672541 , 0.77812443],\n",
       "        [0.43545465, 0.61690817],\n",
       "        [0.27245066, 0.84347142],\n",
       "        [0.1196127 , 0.60122718],\n",
       "        [0.2092948 , 0.44045346],\n",
       "        [0.94404349, 0.38751171],\n",
       "        [0.67959803, 0.64938131],\n",
       "        [0.68730562, 0.96655449],\n",
       "        [0.53767267, 0.11838229],\n",
       "        [0.04814242, 0.03369713]]])"
      ]
     },
     "execution_count": 52,
     "metadata": {},
     "output_type": "execute_result"
    }
   ],
   "source": [
    "np.random.rand(4,10,2) # arrays=4, rows=10, columns=2"
   ]
  },
  {
   "cell_type": "code",
   "execution_count": 54,
   "id": "b01bc727-67d8-48c2-8df3-ea5b5b4df291",
   "metadata": {},
   "outputs": [
    {
     "data": {
      "text/plain": [
       "array([10, 14])"
      ]
     },
     "execution_count": 54,
     "metadata": {},
     "output_type": "execute_result"
    }
   ],
   "source": [
    "np.random.randint(10,20,2) # randint(low, high, size): This function generates random integers from a half-open interval [low, high). \n",
    "                                   # This means that low is inclusive, and high is exclusive.\n",
    "                           # low: The lowest integer to be generated. In your example, low is 10.\n",
    "                           # high: The highest integer to be generated (exclusive). In your example, high is 20. \n",
    "                                   # This means that the generated numbers will be less than 20.\n",
    "                           # size: An integer or tuple of integers defining the shape of the output array. In your example, size is 2.\n",
    "                                  # This means that the function will return an array containing 2 random integers."
   ]
  },
  {
   "cell_type": "code",
   "execution_count": 56,
   "id": "7c731dd6-7f85-4256-8c39-7266d6c5e143",
   "metadata": {},
   "outputs": [
    {
     "data": {
      "text/plain": [
       "array([20, 15, 18, 11])"
      ]
     },
     "execution_count": 56,
     "metadata": {},
     "output_type": "execute_result"
    }
   ],
   "source": [
    "np.random.randint(10,30,4) # 10=low, 30=high, 4=no.of values as output.\n",
    "                           # each time it gives 4 random values as output."
   ]
  },
  {
   "cell_type": "code",
   "execution_count": 64,
   "id": "bbf12729-3090-4b90-aa69-78ce9008efb5",
   "metadata": {},
   "outputs": [
    {
     "data": {
      "text/plain": [
       "array([4, 2])"
      ]
     },
     "execution_count": 64,
     "metadata": {},
     "output_type": "execute_result"
    }
   ],
   "source": [
    "np.random.randint(2,8,2) # It only gives integer values. its a default function."
   ]
  },
  {
   "cell_type": "code",
   "execution_count": 70,
   "id": "19983159-e6fa-4cf8-90df-f30b3482cbf9",
   "metadata": {},
   "outputs": [
    {
     "data": {
      "text/plain": [
       "array([[11, 19, 15, 13, 14, 15, 11, 10, 13, 18],\n",
       "       [12, 19, 10, 19, 12, 13, 10, 16, 15, 18],\n",
       "       [10, 12, 11, 19, 17, 14, 16, 12, 15, 14],\n",
       "       [18, 18, 13, 10, 14, 16, 16, 13, 13, 15],\n",
       "       [16, 18, 12, 19, 11, 13, 16, 12, 14, 15],\n",
       "       [15, 16, 16, 11, 18, 16, 13, 13, 19, 17],\n",
       "       [18, 11, 14, 19, 10, 19, 16, 12, 15, 13],\n",
       "       [12, 12, 11, 10, 14, 13, 10, 11, 14, 11],\n",
       "       [17, 10, 16, 14, 18, 12, 15, 14, 14, 19],\n",
       "       [13, 19, 15, 10, 18, 10, 19, 16, 11, 13]])"
      ]
     },
     "execution_count": 70,
     "metadata": {},
     "output_type": "execute_result"
    }
   ],
   "source": [
    "np.random.randint(10,20,(10,10)) # [10,10]= its like 2d matrix and its a tuple.\n",
    "                                 # low=10,high=20\n",
    "                                 # It generates values in between 10 to 19."
   ]
  },
  {
   "cell_type": "code",
   "execution_count": 74,
   "id": "b242b86d-fe60-4934-93e3-dd9abc6fc000",
   "metadata": {},
   "outputs": [
    {
     "data": {
      "text/plain": [
       "array([[54, 30, 29, 57, 66],\n",
       "       [ 5, 51, 34, 63, 40],\n",
       "       [ 6, 85,  2, 63, 69],\n",
       "       [64, 79, 71, 43, 20],\n",
       "       [57, 15, 39, 85, 21]])"
      ]
     },
     "execution_count": 74,
     "metadata": {},
     "output_type": "execute_result"
    }
   ],
   "source": [
    "np.random.randint(1,100,(5,5)) # It gives random values. Everytime it changes."
   ]
  },
  {
   "cell_type": "markdown",
   "id": "6c186f50-507f-4483-b9aa-8a77be86b075",
   "metadata": {},
   "source": [
    "### 5. reshape() = It does not modify the underlying data of the array; it only changes how the data is organized."
   ]
  },
  {
   "cell_type": "code",
   "execution_count": 85,
   "id": "9e2abbd9-53d6-4856-82a4-39a3f917413a",
   "metadata": {},
   "outputs": [
    {
     "data": {
      "text/plain": [
       "array([[ 1,  2,  3,  4],\n",
       "       [ 5,  6,  7,  8],\n",
       "       [ 9, 10, 11, 12]])"
      ]
     },
     "execution_count": 85,
     "metadata": {},
     "output_type": "execute_result"
    }
   ],
   "source": [
    "np.arange(1,13).reshape(3,4) # remember= (3,4)=>3*4=12\n",
    "                             # Here 13= n-1=> 12\n",
    "                             # It should match otherwise it gives you error."
   ]
  },
  {
   "cell_type": "code",
   "execution_count": 89,
   "id": "06767455-a8ee-45c3-9018-7d8ec857f859",
   "metadata": {},
   "outputs": [
    {
     "data": {
      "text/plain": [
       "array([[ 1,  2,  3,  4,  5,  6,  7],\n",
       "       [ 8,  9, 10, 11, 12, 13, 14]])"
      ]
     },
     "execution_count": 89,
     "metadata": {},
     "output_type": "execute_result"
    }
   ],
   "source": [
    "np.arange(1,15).reshape(2,7) # 15=n-1=>14 and 2*7=14. Its a match."
   ]
  },
  {
   "cell_type": "code",
   "execution_count": 91,
   "id": "fe70780d-bdd8-4ffc-b4e7-841f2359a4e1",
   "metadata": {},
   "outputs": [
    {
     "data": {
      "text/plain": [
       "array([[1, 2, 3],\n",
       "       [4, 5, 6],\n",
       "       [7, 8, 9]])"
      ]
     },
     "execution_count": 91,
     "metadata": {},
     "output_type": "execute_result"
    }
   ],
   "source": [
    "np.arange(1,10).reshape(3,3)"
   ]
  },
  {
   "cell_type": "code",
   "execution_count": 95,
   "id": "656f16a4-5ba2-4c5c-ab51-6435f19c5c9d",
   "metadata": {},
   "outputs": [
    {
     "data": {
      "text/plain": [
       "array([[ 1,  2,  3,  4,  5,  6,  7],\n",
       "       [ 8,  9, 10, 11, 12, 13, 14],\n",
       "       [15, 16, 17, 18, 19, 20, 21]])"
      ]
     },
     "execution_count": 95,
     "metadata": {},
     "output_type": "execute_result"
    }
   ],
   "source": [
    "np.arange(1,22).reshape(3,7)"
   ]
  },
  {
   "cell_type": "code",
   "execution_count": 97,
   "id": "8acf281d-cc6d-4ae5-9186-af697434dd0f",
   "metadata": {},
   "outputs": [
    {
     "data": {
      "text/plain": [
       "array([[13, 13, 16, 13],\n",
       "       [17, 15, 17, 18],\n",
       "       [12, 10, 13, 16],\n",
       "       [14, 14, 12, 17],\n",
       "       [13, 10, 13, 12]])"
      ]
     },
     "execution_count": 97,
     "metadata": {},
     "output_type": "execute_result"
    }
   ],
   "source": [
    "b = np.random.randint(10,20,(5,4))\n",
    "b"
   ]
  },
  {
   "cell_type": "code",
   "execution_count": 99,
   "id": "ac8bb99f-710b-45f7-bc9b-44deeffede45",
   "metadata": {},
   "outputs": [
    {
     "data": {
      "text/plain": [
       "numpy.ndarray"
      ]
     },
     "execution_count": 99,
     "metadata": {},
     "output_type": "execute_result"
    }
   ],
   "source": [
    "type(b)"
   ]
  },
  {
   "cell_type": "code",
   "execution_count": 101,
   "id": "034b2c1a-14a4-441e-a906-4f66f7352bb8",
   "metadata": {},
   "outputs": [
    {
     "data": {
      "text/plain": [
       "array([[13, 13, 16, 13],\n",
       "       [17, 15, 17, 18],\n",
       "       [12, 10, 13, 16],\n",
       "       [14, 14, 12, 17],\n",
       "       [13, 10, 13, 12]])"
      ]
     },
     "execution_count": 101,
     "metadata": {},
     "output_type": "execute_result"
    }
   ],
   "source": [
    "b[:] # It prints all the elements"
   ]
  },
  {
   "cell_type": "code",
   "execution_count": 103,
   "id": "5f6db96e-1344-4aa5-849e-8e6f8cd1aa50",
   "metadata": {},
   "outputs": [
    {
     "data": {
      "text/plain": [
       "array([[17, 15, 17, 18],\n",
       "       [12, 10, 13, 16]])"
      ]
     },
     "execution_count": 103,
     "metadata": {},
     "output_type": "execute_result"
    }
   ],
   "source": [
    "b[1:3] # Here each row is one index value. 3=n-1=>2. so 1 and 2 is output."
   ]
  },
  {
   "cell_type": "code",
   "execution_count": 107,
   "id": "0445ec8b-cf29-4a9a-92a9-dfe4ddbca981",
   "metadata": {},
   "outputs": [
    {
     "data": {
      "text/plain": [
       "array([[14, 14, 12, 17],\n",
       "       [13, 10, 13, 12]])"
      ]
     },
     "execution_count": 107,
     "metadata": {},
     "output_type": "execute_result"
    }
   ],
   "source": [
    "b[3:5] # last two rows as output"
   ]
  },
  {
   "cell_type": "code",
   "execution_count": 113,
   "id": "b42f37e3-5243-4d4e-8d35-11acaeddc22d",
   "metadata": {},
   "outputs": [
    {
     "data": {
      "text/plain": [
       "array([[13, 13, 16, 13],\n",
       "       [17, 15, 17, 18],\n",
       "       [12, 10, 13, 16],\n",
       "       [14, 14, 12, 17],\n",
       "       [13, 10, 13, 12]])"
      ]
     },
     "execution_count": 113,
     "metadata": {},
     "output_type": "execute_result"
    }
   ],
   "source": [
    "b"
   ]
  },
  {
   "cell_type": "code",
   "execution_count": 117,
   "id": "532e6345-c821-4a79-9ad8-6db84d76f552",
   "metadata": {},
   "outputs": [
    {
     "data": {
      "text/plain": [
       "18"
      ]
     },
     "execution_count": 117,
     "metadata": {},
     "output_type": "execute_result"
    }
   ],
   "source": [
    "b[1,3] # Here rows and columns starts with '0'. that is row=0,1,2,3 and columns= 0,1,2,3,4\n",
    "       # So row=1 and column(3)=18\n",
    "       # so output=18"
   ]
  },
  {
   "cell_type": "code",
   "execution_count": 119,
   "id": "38a346df-8f50-4a2f-828c-e3f24bd446f4",
   "metadata": {},
   "outputs": [
    {
     "data": {
      "text/plain": [
       "10"
      ]
     },
     "execution_count": 119,
     "metadata": {},
     "output_type": "execute_result"
    }
   ],
   "source": [
    "b[4,1] # last row second column digit is '10'"
   ]
  },
  {
   "cell_type": "code",
   "execution_count": 121,
   "id": "a451a42d-fef6-413d-8ebb-2ff6f1f0d73e",
   "metadata": {},
   "outputs": [
    {
     "data": {
      "text/plain": [
       "18"
      ]
     },
     "execution_count": 121,
     "metadata": {},
     "output_type": "execute_result"
    }
   ],
   "source": [
    "b[1,-1] # -1= last element of the first row."
   ]
  },
  {
   "cell_type": "code",
   "execution_count": 123,
   "id": "6cf5e1bd-f85d-4f8c-8e55-f8f3cb1d9487",
   "metadata": {},
   "outputs": [
    {
     "data": {
      "text/plain": [
       "16"
      ]
     },
     "execution_count": 123,
     "metadata": {},
     "output_type": "execute_result"
    }
   ],
   "source": [
    "b[2,-1] # last element of 2nd row."
   ]
  },
  {
   "cell_type": "code",
   "execution_count": 129,
   "id": "7317e2e2-a491-43d9-92fe-ef33405d5654",
   "metadata": {},
   "outputs": [
    {
     "data": {
      "text/plain": [
       "array([[12, 10, 13, 16]])"
      ]
     },
     "execution_count": 129,
     "metadata": {},
     "output_type": "execute_result"
    }
   ],
   "source": [
    "b[2:3] # start=2ndrow and stop=3 = no.of line row\n",
    "       # start = inclusive and stop = exclusive"
   ]
  },
  {
   "cell_type": "code",
   "execution_count": 133,
   "id": "9ffde586-24da-40f2-be44-1b0f5de3d230",
   "metadata": {},
   "outputs": [
    {
     "data": {
      "text/plain": [
       "array([[13, 10, 13, 12]])"
      ]
     },
     "execution_count": 133,
     "metadata": {},
     "output_type": "execute_result"
    }
   ],
   "source": [
    "b[4:5] # start= 4th row and stop = 5th row"
   ]
  },
  {
   "cell_type": "code",
   "execution_count": 139,
   "id": "bbe9557a-92ec-4630-bd19-acdf7cf575cd",
   "metadata": {},
   "outputs": [
    {
     "data": {
      "text/plain": [
       "array([13, 15, 10, 14, 10])"
      ]
     },
     "execution_count": 139,
     "metadata": {},
     "output_type": "execute_result"
    }
   ],
   "source": [
    "b[:,1] # this is for column output. : = all and 1= 1st column(index value)\n",
    "       # ',' is very important. otheriwse it will give output for row."
   ]
  },
  {
   "cell_type": "code",
   "execution_count": 143,
   "id": "7ee5bcb9-3375-4567-94d7-49ceae8814f5",
   "metadata": {},
   "outputs": [
    {
     "data": {
      "text/plain": [
       "array([16, 17, 13, 12, 13])"
      ]
     },
     "execution_count": 143,
     "metadata": {},
     "output_type": "execute_result"
    }
   ],
   "source": [
    "b[:, 2] # column syntax: [:,column number]"
   ]
  },
  {
   "cell_type": "code",
   "execution_count": 147,
   "id": "397ae580-ac80-4782-b0df-0efd285a5306",
   "metadata": {},
   "outputs": [
    {
     "data": {
      "text/plain": [
       "array([[13, 13, 16, 13],\n",
       "       [17, 15, 17, 18],\n",
       "       [12, 10, 13, 16],\n",
       "       [14, 14, 12, 17],\n",
       "       [13, 10, 13, 12]])"
      ]
     },
     "execution_count": 147,
     "metadata": {},
     "output_type": "execute_result"
    }
   ],
   "source": [
    "b"
   ]
  },
  {
   "cell_type": "code",
   "execution_count": 153,
   "id": "c4d2b3b9-a61e-45a6-999b-a5f46ec12ab6",
   "metadata": {},
   "outputs": [
    {
     "data": {
      "text/plain": [
       "15"
      ]
     },
     "execution_count": 153,
     "metadata": {},
     "output_type": "execute_result"
    }
   ],
   "source": [
    "b[-4,-2] # -4 = last to 4th row and -2 = last to second column."
   ]
  },
  {
   "cell_type": "code",
   "execution_count": 5,
   "id": "317c79bb-7310-4f3a-8e94-ec26d9673634",
   "metadata": {},
   "outputs": [],
   "source": [
    "import numpy as np"
   ]
  },
  {
   "cell_type": "code",
   "execution_count": 21,
   "id": "300c442e-7539-4688-8c2b-cc400f5aa9bc",
   "metadata": {},
   "outputs": [
    {
     "data": {
      "text/plain": [
       "array([[  1,   2,   3,   4,   5,   6,   7,   8,   9,  10,  11,  12,  13,\n",
       "         14,  15,  16,  17,  18,  19,  20],\n",
       "       [ 21,  22,  23,  24,  25,  26,  27,  28,  29,  30,  31,  32,  33,\n",
       "         34,  35,  36,  37,  38,  39,  40],\n",
       "       [ 41,  42,  43,  44,  45,  46,  47,  48,  49,  50,  51,  52,  53,\n",
       "         54,  55,  56,  57,  58,  59,  60],\n",
       "       [ 61,  62,  63,  64,  65,  66,  67,  68,  69,  70,  71,  72,  73,\n",
       "         74,  75,  76,  77,  78,  79,  80],\n",
       "       [ 81,  82,  83,  84,  85,  86,  87,  88,  89,  90,  91,  92,  93,\n",
       "         94,  95,  96,  97,  98,  99, 100]])"
      ]
     },
     "execution_count": 21,
     "metadata": {},
     "output_type": "execute_result"
    }
   ],
   "source": [
    "n=np.arange(1,101) # Like this you can get any set of numbers you want as a matrix.\n",
    "n.reshape(5,20)"
   ]
  },
  {
   "cell_type": "code",
   "execution_count": 7,
   "id": "5a070d9e-5209-425d-85b0-56e5e0ec3e59",
   "metadata": {},
   "outputs": [],
   "source": [
    "b=np.random.randint(10,20,(4,4))"
   ]
  },
  {
   "cell_type": "code",
   "execution_count": 9,
   "id": "9875a2e8-741a-4260-91df-91c1d4f13eed",
   "metadata": {},
   "outputs": [
    {
     "data": {
      "text/plain": [
       "array([[19, 14, 19, 16],\n",
       "       [15, 16, 11, 13],\n",
       "       [14, 12, 13, 16],\n",
       "       [15, 13, 10, 13]])"
      ]
     },
     "execution_count": 9,
     "metadata": {},
     "output_type": "execute_result"
    }
   ],
   "source": [
    "b"
   ]
  },
  {
   "cell_type": "code",
   "execution_count": 15,
   "id": "de73d2eb-4490-4b86-bf86-cb2073562478",
   "metadata": {},
   "outputs": [
    {
     "data": {
      "text/plain": [
       "16"
      ]
     },
     "execution_count": 15,
     "metadata": {},
     "output_type": "execute_result"
    }
   ],
   "source": [
    "b[-4,-1] # 1st line last element that is -1th element"
   ]
  },
  {
   "cell_type": "code",
   "execution_count": 21,
   "id": "faa3c5f0-9f08-4e51-86ae-b4956bad16f6",
   "metadata": {},
   "outputs": [
    {
     "data": {
      "text/plain": [
       "array([[19, 14, 19, 16],\n",
       "       [15, 16, 11, 13]])"
      ]
     },
     "execution_count": 21,
     "metadata": {},
     "output_type": "execute_result"
    }
   ],
   "source": [
    "b[-4:2]"
   ]
  },
  {
   "cell_type": "markdown",
   "id": "7f7d585d-149e-4d6a-9f3f-efc82ca3a45e",
   "metadata": {},
   "source": [
    "# Operations"
   ]
  },
  {
   "cell_type": "code",
   "execution_count": 26,
   "id": "d6f4eeee-ebef-43c7-b545-9d9d8dc86e70",
   "metadata": {},
   "outputs": [
    {
     "data": {
      "text/plain": [
       "array([15, 17, 19, 13, 16])"
      ]
     },
     "execution_count": 26,
     "metadata": {},
     "output_type": "execute_result"
    }
   ],
   "source": [
    "a=np.random.randint(10,20,5)\n",
    "a"
   ]
  },
  {
   "cell_type": "code",
   "execution_count": 28,
   "id": "2a56107e-c64d-43aa-ac33-aab994907c32",
   "metadata": {},
   "outputs": [
    {
     "data": {
      "text/plain": [
       "2999489329648"
      ]
     },
     "execution_count": 28,
     "metadata": {},
     "output_type": "execute_result"
    }
   ],
   "source": [
    "id(a) # Address of the memory location."
   ]
  },
  {
   "cell_type": "code",
   "execution_count": 38,
   "id": "2d1b73b7-0eed-4c2d-b182-89a183707b87",
   "metadata": {},
   "outputs": [
    {
     "data": {
      "text/plain": [
       "array([0, 1, 2, 3, 4, 5])"
      ]
     },
     "execution_count": 38,
     "metadata": {},
     "output_type": "execute_result"
    }
   ],
   "source": [
    "my_list=[0,1,2,3,4,5]\n",
    "arr=np.array(my_list)\n",
    "arr"
   ]
  },
  {
   "cell_type": "code",
   "execution_count": 42,
   "id": "322c03bc-fcdd-431d-807e-c8adb8a1e835",
   "metadata": {},
   "outputs": [
    {
     "data": {
      "text/plain": [
       "array([[99, 96, 45, 53, 10, 87, 51,  7, 12, 91],\n",
       "       [37, 71, 61, 64, 57, 92, 97, 62, 81, 63],\n",
       "       [80, 33, 16, 89, 38, 76, 67, 51, 21, 28],\n",
       "       [50,  8, 49, 25, 18, 17, 15, 67,  7, 77],\n",
       "       [28, 80, 38, 44, 81, 37, 51, 49, 26, 17],\n",
       "       [62, 73, 11,  8, 39, 65, 16, 74, 10, 32],\n",
       "       [96, 64, 27, 84, 75, 36, 72, 24, 47, 90],\n",
       "       [53, 60, 36, 60,  8, 25, 22, 60, 31,  2],\n",
       "       [30, 56, 10, 89, 14, 42, 43, 15, 85, 57],\n",
       "       [61, 48, 48, 54, 57,  9, 64, 66, 98, 94]])"
      ]
     },
     "execution_count": 42,
     "metadata": {},
     "output_type": "execute_result"
    }
   ],
   "source": [
    "arr2=np.random.randint(1,100,(10,10))\n",
    "arr2"
   ]
  },
  {
   "cell_type": "code",
   "execution_count": 46,
   "id": "4cac9e3e-604b-4152-816c-fad3d109742e",
   "metadata": {},
   "outputs": [
    {
     "data": {
      "text/plain": [
       "array([[99, 96, 45, 53, 10, 87, 51,  7, 12, 91],\n",
       "       [37, 71, 61, 64, 57, 92, 97, 62, 81, 63],\n",
       "       [80, 33, 16, 89, 38, 76, 67, 51, 21, 28],\n",
       "       [50,  8, 49, 25, 18, 17, 15, 67,  7, 77],\n",
       "       [28, 80, 38, 44, 81, 37, 51, 49, 26, 17],\n",
       "       [62, 73, 11,  8, 39, 65, 16, 74, 10, 32],\n",
       "       [96, 64, 27, 84, 75, 36, 72, 24, 47, 90],\n",
       "       [53, 60, 36, 60,  8, 25, 22, 60, 31,  2],\n",
       "       [30, 56, 10, 89, 14, 42, 43, 15, 85, 57],\n",
       "       [61, 48, 48, 54, 57,  9, 64, 66, 98, 94]])"
      ]
     },
     "execution_count": 46,
     "metadata": {},
     "output_type": "execute_result"
    }
   ],
   "source": [
    "arr2[:]"
   ]
  },
  {
   "cell_type": "code",
   "execution_count": 48,
   "id": "196850f3-adcf-478e-b18d-9dab5643a846",
   "metadata": {},
   "outputs": [
    {
     "data": {
      "text/plain": [
       "array([[99, 96, 45, 53, 10, 87, 51,  7, 12, 91],\n",
       "       [37, 71, 61, 64, 57, 92, 97, 62, 81, 63],\n",
       "       [80, 33, 16, 89, 38, 76, 67, 51, 21, 28],\n",
       "       [50,  8, 49, 25, 18, 17, 15, 67,  7, 77]])"
      ]
     },
     "execution_count": 48,
     "metadata": {},
     "output_type": "execute_result"
    }
   ],
   "source": [
    "arr2[:4]"
   ]
  },
  {
   "cell_type": "code",
   "execution_count": 50,
   "id": "afce91bb-fc9a-4ce2-bf4b-400114769379",
   "metadata": {},
   "outputs": [
    {
     "data": {
      "text/plain": [
       "array([[99, 96, 45, 53, 10, 87, 51,  7, 12, 91],\n",
       "       [37, 71, 61, 64, 57, 92, 97, 62, 81, 63],\n",
       "       [80, 33, 16, 89, 38, 76, 67, 51, 21, 28],\n",
       "       [50,  8, 49, 25, 18, 17, 15, 67,  7, 77],\n",
       "       [28, 80, 38, 44, 81, 37, 51, 49, 26, 17],\n",
       "       [62, 73, 11,  8, 39, 65, 16, 74, 10, 32]])"
      ]
     },
     "execution_count": 50,
     "metadata": {},
     "output_type": "execute_result"
    }
   ],
   "source": [
    "arr2[:-4]"
   ]
  },
  {
   "cell_type": "code",
   "execution_count": 52,
   "id": "1fd8582b-c816-4101-b830-4b2ae551c8a1",
   "metadata": {},
   "outputs": [
    {
     "data": {
      "text/plain": [
       "array([[96, 64, 27, 84, 75, 36, 72, 24, 47, 90],\n",
       "       [53, 60, 36, 60,  8, 25, 22, 60, 31,  2],\n",
       "       [30, 56, 10, 89, 14, 42, 43, 15, 85, 57],\n",
       "       [61, 48, 48, 54, 57,  9, 64, 66, 98, 94]])"
      ]
     },
     "execution_count": 52,
     "metadata": {},
     "output_type": "execute_result"
    }
   ],
   "source": [
    "arr2[-4:]"
   ]
  },
  {
   "cell_type": "code",
   "execution_count": 54,
   "id": "7c1715af-4f49-4d68-8c19-245ec402af6a",
   "metadata": {},
   "outputs": [
    {
     "data": {
      "text/plain": [
       "array([[99, 96, 45, 53, 10, 87, 51,  7, 12, 91],\n",
       "       [37, 71, 61, 64, 57, 92, 97, 62, 81, 63],\n",
       "       [80, 33, 16, 89, 38, 76, 67, 51, 21, 28],\n",
       "       [50,  8, 49, 25, 18, 17, 15, 67,  7, 77],\n",
       "       [28, 80, 38, 44, 81, 37, 51, 49, 26, 17]])"
      ]
     },
     "execution_count": 54,
     "metadata": {},
     "output_type": "execute_result"
    }
   ],
   "source": [
    "arr2[0:5] # ':' it represents slicing"
   ]
  },
  {
   "cell_type": "code",
   "execution_count": 56,
   "id": "b8076c6d-6366-48c2-8a43-5bfc9c0ca6ca",
   "metadata": {},
   "outputs": [
    {
     "data": {
      "text/plain": [
       "array([[99, 96, 45, 53, 10, 87, 51,  7, 12, 91],\n",
       "       [37, 71, 61, 64, 57, 92, 97, 62, 81, 63],\n",
       "       [80, 33, 16, 89, 38, 76, 67, 51, 21, 28],\n",
       "       [50,  8, 49, 25, 18, 17, 15, 67,  7, 77],\n",
       "       [28, 80, 38, 44, 81, 37, 51, 49, 26, 17],\n",
       "       [62, 73, 11,  8, 39, 65, 16, 74, 10, 32],\n",
       "       [96, 64, 27, 84, 75, 36, 72, 24, 47, 90],\n",
       "       [53, 60, 36, 60,  8, 25, 22, 60, 31,  2],\n",
       "       [30, 56, 10, 89, 14, 42, 43, 15, 85, 57],\n",
       "       [61, 48, 48, 54, 57,  9, 64, 66, 98, 94]])"
      ]
     },
     "execution_count": 56,
     "metadata": {},
     "output_type": "execute_result"
    }
   ],
   "source": [
    "arr2"
   ]
  },
  {
   "cell_type": "code",
   "execution_count": 58,
   "id": "102bd574-23d3-4e9e-8e59-d338f1166cc7",
   "metadata": {},
   "outputs": [
    {
     "data": {
      "text/plain": [
       "57"
      ]
     },
     "execution_count": 58,
     "metadata": {},
     "output_type": "execute_result"
    }
   ],
   "source": [
    "arr2[1,4] # ',' this will give you the particular element"
   ]
  },
  {
   "cell_type": "code",
   "execution_count": 60,
   "id": "0fc4f210-c0c6-4df9-a19a-a5a3bcea6e84",
   "metadata": {},
   "outputs": [
    {
     "data": {
      "text/plain": [
       "65"
      ]
     },
     "execution_count": 60,
     "metadata": {},
     "output_type": "execute_result"
    }
   ],
   "source": [
    "arr2[-5,5] # left side = top to bottom it starts with '0'\n",
    "           # right side = bottom to top it starts with '-1'"
   ]
  },
  {
   "cell_type": "code",
   "execution_count": 64,
   "id": "d911b5d1-e0b0-4e55-a218-eedaaf966845",
   "metadata": {},
   "outputs": [
    {
     "data": {
      "text/plain": [
       "39"
      ]
     },
     "execution_count": 64,
     "metadata": {},
     "output_type": "execute_result"
    }
   ],
   "source": [
    "arr2[-5,-6]"
   ]
  },
  {
   "cell_type": "code",
   "execution_count": 66,
   "id": "427edd27-e2e6-439b-9760-9ad2be9396af",
   "metadata": {},
   "outputs": [
    {
     "data": {
      "text/plain": [
       "array([[99, 96, 45, 53, 10, 87, 51,  7, 12, 91],\n",
       "       [37, 71, 61, 64, 57, 92, 97, 62, 81, 63],\n",
       "       [80, 33, 16, 89, 38, 76, 67, 51, 21, 28],\n",
       "       [50,  8, 49, 25, 18, 17, 15, 67,  7, 77],\n",
       "       [28, 80, 38, 44, 81, 37, 51, 49, 26, 17],\n",
       "       [62, 73, 11,  8, 39, 65, 16, 74, 10, 32],\n",
       "       [96, 64, 27, 84, 75, 36, 72, 24, 47, 90],\n",
       "       [53, 60, 36, 60,  8, 25, 22, 60, 31,  2],\n",
       "       [30, 56, 10, 89, 14, 42, 43, 15, 85, 57],\n",
       "       [61, 48, 48, 54, 57,  9, 64, 66, 98, 94]])"
      ]
     },
     "execution_count": 66,
     "metadata": {},
     "output_type": "execute_result"
    }
   ],
   "source": [
    "arr2"
   ]
  },
  {
   "cell_type": "code",
   "execution_count": 68,
   "id": "637dea1d-9277-4bbd-96e1-977bcfa2bc11",
   "metadata": {},
   "outputs": [
    {
     "data": {
      "text/plain": [
       "array([[61, 48, 48, 54, 57,  9, 64, 66, 98, 94],\n",
       "       [30, 56, 10, 89, 14, 42, 43, 15, 85, 57],\n",
       "       [53, 60, 36, 60,  8, 25, 22, 60, 31,  2],\n",
       "       [96, 64, 27, 84, 75, 36, 72, 24, 47, 90],\n",
       "       [62, 73, 11,  8, 39, 65, 16, 74, 10, 32],\n",
       "       [28, 80, 38, 44, 81, 37, 51, 49, 26, 17],\n",
       "       [50,  8, 49, 25, 18, 17, 15, 67,  7, 77],\n",
       "       [80, 33, 16, 89, 38, 76, 67, 51, 21, 28],\n",
       "       [37, 71, 61, 64, 57, 92, 97, 62, 81, 63],\n",
       "       [99, 96, 45, 53, 10, 87, 51,  7, 12, 91]])"
      ]
     },
     "execution_count": 68,
     "metadata": {},
     "output_type": "execute_result"
    }
   ],
   "source": [
    "arr2[::-1] # reverse of a matrix"
   ]
  },
  {
   "cell_type": "code",
   "execution_count": 70,
   "id": "a0c6854d-d143-4d1d-9b3d-95da908d8a2a",
   "metadata": {},
   "outputs": [
    {
     "data": {
      "text/plain": [
       "array([[61, 48, 48, 54, 57,  9, 64, 66, 98, 94],\n",
       "       [53, 60, 36, 60,  8, 25, 22, 60, 31,  2],\n",
       "       [62, 73, 11,  8, 39, 65, 16, 74, 10, 32],\n",
       "       [50,  8, 49, 25, 18, 17, 15, 67,  7, 77],\n",
       "       [37, 71, 61, 64, 57, 92, 97, 62, 81, 63]])"
      ]
     },
     "execution_count": 70,
     "metadata": {},
     "output_type": "execute_result"
    }
   ],
   "source": [
    "arr2[::-2] # It skips 2 rows and gives output in a reverse"
   ]
  },
  {
   "cell_type": "code",
   "execution_count": 72,
   "id": "8135c14e-0593-438a-b670-8a7ffc83e4d6",
   "metadata": {},
   "outputs": [
    {
     "data": {
      "text/plain": [
       "array([[99, 96, 45, 53, 10, 87, 51,  7, 12, 91],\n",
       "       [37, 71, 61, 64, 57, 92, 97, 62, 81, 63],\n",
       "       [80, 33, 16, 89, 38, 76, 67, 51, 21, 28],\n",
       "       [50,  8, 49, 25, 18, 17, 15, 67,  7, 77],\n",
       "       [28, 80, 38, 44, 81, 37, 51, 49, 26, 17],\n",
       "       [62, 73, 11,  8, 39, 65, 16, 74, 10, 32],\n",
       "       [96, 64, 27, 84, 75, 36, 72, 24, 47, 90]])"
      ]
     },
     "execution_count": 72,
     "metadata": {},
     "output_type": "execute_result"
    }
   ],
   "source": [
    "arr2[:-3]"
   ]
  },
  {
   "cell_type": "code",
   "execution_count": 74,
   "id": "edd6af00-f6b0-4e03-8387-ce5da9f50308",
   "metadata": {},
   "outputs": [
    {
     "data": {
      "text/plain": [
       "array([0, 1, 2, 3, 4, 5])"
      ]
     },
     "execution_count": 74,
     "metadata": {},
     "output_type": "execute_result"
    }
   ],
   "source": [
    "arr"
   ]
  },
  {
   "cell_type": "code",
   "execution_count": 76,
   "id": "30054792-48dc-4497-8db5-84609c29398d",
   "metadata": {},
   "outputs": [
    {
     "data": {
      "text/plain": [
       "5"
      ]
     },
     "execution_count": 76,
     "metadata": {},
     "output_type": "execute_result"
    }
   ],
   "source": [
    "arr.max() # It gives maximum value"
   ]
  },
  {
   "cell_type": "code",
   "execution_count": 78,
   "id": "f9af2922-ebea-4375-a0d8-d9af4c988ffd",
   "metadata": {},
   "outputs": [
    {
     "data": {
      "text/plain": [
       "0"
      ]
     },
     "execution_count": 78,
     "metadata": {},
     "output_type": "execute_result"
    }
   ],
   "source": [
    "arr.min() # It gives maximum value"
   ]
  },
  {
   "cell_type": "code",
   "execution_count": 80,
   "id": "af822965-017b-4492-9cce-4feb114592d3",
   "metadata": {},
   "outputs": [
    {
     "data": {
      "text/plain": [
       "2.5"
      ]
     },
     "execution_count": 80,
     "metadata": {},
     "output_type": "execute_result"
    }
   ],
   "source": [
    "arr. mean() # It gives mean value i.e., 2.5"
   ]
  },
  {
   "cell_type": "code",
   "execution_count": 84,
   "id": "b39a9c0e-5d20-42e1-8cde-3a43c120e958",
   "metadata": {},
   "outputs": [
    {
     "ename": "NameError",
     "evalue": "name 'numpy' is not defined",
     "output_type": "error",
     "traceback": [
      "\u001b[1;31m---------------------------------------------------------------------------\u001b[0m",
      "\u001b[1;31mNameError\u001b[0m                                 Traceback (most recent call last)",
      "Cell \u001b[1;32mIn[84], line 1\u001b[0m\n\u001b[1;32m----> 1\u001b[0m arr\u001b[38;5;241m=\u001b[39mnumpy\u001b[38;5;241m.\u001b[39mmedian()\n",
      "\u001b[1;31mNameError\u001b[0m: name 'numpy' is not defined"
     ]
    }
   ],
   "source": [
    "arr.median() # It is because median in not in built function. \n",
    "             # Use \"from numpy import *\" where * = import all numpy libraries."
   ]
  },
  {
   "cell_type": "code",
   "execution_count": 86,
   "id": "9371b38a-2673-4c93-b29d-e3cd5cd86858",
   "metadata": {},
   "outputs": [],
   "source": [
    "from numpy import *"
   ]
  },
  {
   "cell_type": "code",
   "execution_count": 94,
   "id": "b51c073b-56b3-42d8-9b56-956c48c603e0",
   "metadata": {},
   "outputs": [
    {
     "data": {
      "text/plain": [
       "2.5"
      ]
     },
     "execution_count": 94,
     "metadata": {},
     "output_type": "execute_result"
    }
   ],
   "source": [
    "median(arr)"
   ]
  },
  {
   "cell_type": "code",
   "execution_count": 96,
   "id": "dc65250e-9ed8-4e3d-8233-e6fb0d902f0d",
   "metadata": {},
   "outputs": [
    {
     "data": {
      "text/plain": [
       "5.5"
      ]
     },
     "execution_count": 96,
     "metadata": {},
     "output_type": "execute_result"
    }
   ],
   "source": [
    "arr3=array([1,2,3,4,5,6,7,8,9,10]) # median() works now\n",
    "median(arr3)"
   ]
  },
  {
   "cell_type": "code",
   "execution_count": 104,
   "id": "ac71cf23-9833-4ce6-a5fc-30281967d99b",
   "metadata": {},
   "outputs": [
    {
     "data": {
      "text/plain": [
       "array([[ 1,  2],\n",
       "       [ 3,  4],\n",
       "       [ 5,  6],\n",
       "       [ 7,  8],\n",
       "       [ 9, 10]])"
      ]
     },
     "execution_count": 104,
     "metadata": {},
     "output_type": "execute_result"
    }
   ],
   "source": [
    "arr3.reshape(5,2)"
   ]
  },
  {
   "cell_type": "code",
   "execution_count": 106,
   "id": "6e0ffeaa-16a1-413e-962d-2f7db2dae3e0",
   "metadata": {},
   "outputs": [
    {
     "data": {
      "text/plain": [
       "array([0, 1, 2, 3, 4, 5])"
      ]
     },
     "execution_count": 106,
     "metadata": {},
     "output_type": "execute_result"
    }
   ],
   "source": [
    "arr"
   ]
  },
  {
   "cell_type": "code",
   "execution_count": 108,
   "id": "49f67e4d-52d6-4fa0-834b-8e2c4c38941b",
   "metadata": {},
   "outputs": [
    {
     "data": {
      "text/plain": [
       "array([[0, 1, 2],\n",
       "       [3, 4, 5]])"
      ]
     },
     "execution_count": 108,
     "metadata": {},
     "output_type": "execute_result"
    }
   ],
   "source": [
    "arr.reshape(2,3,order='C') # order='C' is used, the elements are taken from the original array in their original order (1, 2, 3, 4, 5, 6)\n",
    "                           # And placed into the 2x3 array row by row.\n",
    "                          # In simple words, orderwise output. "
   ]
  },
  {
   "cell_type": "code",
   "execution_count": 116,
   "id": "e8265487-5909-443a-b003-848f8119e486",
   "metadata": {},
   "outputs": [
    {
     "data": {
      "text/plain": [
       "array([[0, 2, 4],\n",
       "       [1, 3, 5]])"
      ]
     },
     "execution_count": 116,
     "metadata": {},
     "output_type": "execute_result"
    }
   ],
   "source": [
    "arr.reshape(2,3,order='F') #The original array arr is [0, 1, 2, 3, 4, 5].\n",
    "                           # With order='F', the reshape() function fills the new 2x3 array column by column:\n",
    "                            # The first column is filled with the first two elements: 0 and 1.\n",
    "                            # The second column is filled with the next two elements: 2 and 3.\n",
    "                            # The third column is filled with the last two elements: 4 and 5.\n",
    "                            # output=[0,2,4] & [1,3,5]"
   ]
  },
  {
   "cell_type": "code",
   "execution_count": 120,
   "id": "96fd17b3-be12-4fd5-ba07-ae8c6bb73805",
   "metadata": {},
   "outputs": [
    {
     "data": {
      "text/plain": [
       "array([[0, 1, 2],\n",
       "       [3, 4, 5]])"
      ]
     },
     "execution_count": 120,
     "metadata": {},
     "output_type": "execute_result"
    }
   ],
   "source": [
    "arr.reshape(2,3,order='A') # Its almost same as \"Order C\""
   ]
  },
  {
   "cell_type": "markdown",
   "id": "57275b68-70db-49a8-a61f-b1c23889945f",
   "metadata": {},
   "source": [
    "# Indexing"
   ]
  },
  {
   "cell_type": "code",
   "execution_count": 125,
   "id": "463f82a3-b7a6-47ba-a2d6-2d7ebe8db76a",
   "metadata": {},
   "outputs": [
    {
     "data": {
      "text/plain": [
       "array([[ 0,  1,  2,  3,  4,  5,  6,  7,  8,  9],\n",
       "       [10, 11, 12, 13, 14, 15, 16, 17, 18, 19],\n",
       "       [20, 21, 22, 23, 24, 25, 26, 27, 28, 29],\n",
       "       [30, 31, 32, 33, 34, 35, 36, 37, 38, 39],\n",
       "       [40, 41, 42, 43, 44, 45, 46, 47, 48, 49],\n",
       "       [50, 51, 52, 53, 54, 55, 56, 57, 58, 59],\n",
       "       [60, 61, 62, 63, 64, 65, 66, 67, 68, 69],\n",
       "       [70, 71, 72, 73, 74, 75, 76, 77, 78, 79],\n",
       "       [80, 81, 82, 83, 84, 85, 86, 87, 88, 89],\n",
       "       [90, 91, 92, 93, 94, 95, 96, 97, 98, 99]])"
      ]
     },
     "execution_count": 125,
     "metadata": {},
     "output_type": "execute_result"
    }
   ],
   "source": [
    "mat=np.arange(0,100).reshape(10,10)\n",
    "mat"
   ]
  },
  {
   "cell_type": "code",
   "execution_count": 131,
   "id": "9076d2d5-bf5c-4720-a39a-bc0a33d52a2b",
   "metadata": {},
   "outputs": [],
   "source": [
    "row=4\n",
    "col=5"
   ]
  },
  {
   "cell_type": "code",
   "execution_count": 137,
   "id": "a986a211-bd81-47f0-b7bd-7f73efaa1835",
   "metadata": {},
   "outputs": [
    {
     "data": {
      "text/plain": [
       "4"
      ]
     },
     "execution_count": 137,
     "metadata": {},
     "output_type": "execute_result"
    }
   ],
   "source": [
    "\n",
    "row"
   ]
  },
  {
   "cell_type": "code",
   "execution_count": 139,
   "id": "c167c8ed-7d42-45e6-ae90-5e8685085aea",
   "metadata": {},
   "outputs": [
    {
     "data": {
      "text/plain": [
       "5"
      ]
     },
     "execution_count": 139,
     "metadata": {},
     "output_type": "execute_result"
    }
   ],
   "source": [
    "col"
   ]
  },
  {
   "cell_type": "code",
   "execution_count": 141,
   "id": "17e42dca-f330-4e26-817e-639a0f2b3f08",
   "metadata": {},
   "outputs": [
    {
     "data": {
      "text/plain": [
       "45"
      ]
     },
     "execution_count": 141,
     "metadata": {},
     "output_type": "execute_result"
    }
   ],
   "source": [
    "mat[row,col]"
   ]
  },
  {
   "cell_type": "code",
   "execution_count": 143,
   "id": "c24da042-11c7-497c-b61c-b4c413611300",
   "metadata": {},
   "outputs": [
    {
     "data": {
      "text/plain": [
       "45"
      ]
     },
     "execution_count": 143,
     "metadata": {},
     "output_type": "execute_result"
    }
   ],
   "source": [
    "mat[4,5] # 4=row and 5=column. the integer is \"45\""
   ]
  },
  {
   "cell_type": "code",
   "execution_count": 145,
   "id": "aa795f65-b8f1-429a-9c66-2609b02fa508",
   "metadata": {},
   "outputs": [
    {
     "data": {
      "text/plain": [
       "array([60, 61, 62, 63, 64, 65, 66, 67, 68, 69])"
      ]
     },
     "execution_count": 145,
     "metadata": {},
     "output_type": "execute_result"
    }
   ],
   "source": [
    "mat[6] # row as output"
   ]
  },
  {
   "cell_type": "code",
   "execution_count": 147,
   "id": "ec92077d-cbb4-4aca-a02e-2c2a14231433",
   "metadata": {},
   "outputs": [
    {
     "data": {
      "text/plain": [
       "array([ 6, 16, 26, 36, 46, 56, 66, 76, 86, 96])"
      ]
     },
     "execution_count": 147,
     "metadata": {},
     "output_type": "execute_result"
    }
   ],
   "source": [
    "mat[:,6] # Column as output"
   ]
  },
  {
   "cell_type": "code",
   "execution_count": 149,
   "id": "15aa17a1-f1ed-4456-af9d-a8354e78b214",
   "metadata": {},
   "outputs": [
    {
     "data": {
      "text/plain": [
       "array([40, 41, 42, 43, 44, 45, 46, 47, 48, 49])"
      ]
     },
     "execution_count": 149,
     "metadata": {},
     "output_type": "execute_result"
    }
   ],
   "source": [
    "mat[4,:]"
   ]
  },
  {
   "cell_type": "code",
   "execution_count": 153,
   "id": "04861182-f49b-43d0-834f-7b2dbd83e16b",
   "metadata": {},
   "outputs": [
    {
     "data": {
      "text/plain": [
       "array([ 9, 19, 29, 39, 49, 59, 69, 79, 89, 99])"
      ]
     },
     "execution_count": 153,
     "metadata": {},
     "output_type": "execute_result"
    }
   ],
   "source": [
    "mat[:,-1]"
   ]
  },
  {
   "cell_type": "code",
   "execution_count": 155,
   "id": "69f29b7a-103c-4925-988a-9cb00070d2aa",
   "metadata": {},
   "outputs": [
    {
     "data": {
      "text/plain": [
       "array([[ 0,  1,  2,  3,  4,  5,  6,  7,  8,  9],\n",
       "       [10, 11, 12, 13, 14, 15, 16, 17, 18, 19],\n",
       "       [20, 21, 22, 23, 24, 25, 26, 27, 28, 29],\n",
       "       [30, 31, 32, 33, 34, 35, 36, 37, 38, 39],\n",
       "       [40, 41, 42, 43, 44, 45, 46, 47, 48, 49],\n",
       "       [50, 51, 52, 53, 54, 55, 56, 57, 58, 59],\n",
       "       [60, 61, 62, 63, 64, 65, 66, 67, 68, 69],\n",
       "       [70, 71, 72, 73, 74, 75, 76, 77, 78, 79],\n",
       "       [80, 81, 82, 83, 84, 85, 86, 87, 88, 89]])"
      ]
     },
     "execution_count": 155,
     "metadata": {},
     "output_type": "execute_result"
    }
   ],
   "source": [
    "mat[:-1] # difference between the \",\" and \":\""
   ]
  },
  {
   "cell_type": "code",
   "execution_count": 157,
   "id": "342d9465-31eb-4f7a-8c92-aad0c9d782bd",
   "metadata": {},
   "outputs": [
    {
     "data": {
      "text/plain": [
       "array([[10, 11, 12, 13, 14, 15, 16, 17, 18, 19],\n",
       "       [20, 21, 22, 23, 24, 25, 26, 27, 28, 29],\n",
       "       [30, 31, 32, 33, 34, 35, 36, 37, 38, 39]])"
      ]
     },
     "execution_count": 157,
     "metadata": {},
     "output_type": "execute_result"
    }
   ],
   "source": [
    "mat[1:4]"
   ]
  },
  {
   "cell_type": "code",
   "execution_count": 163,
   "id": "fe592060-2097-45bc-ab49-338b89e62918",
   "metadata": {},
   "outputs": [
    {
     "data": {
      "text/plain": [
       "array([[ 0,  1,  2,  3,  4,  5,  6,  7,  8,  9],\n",
       "       [30, 31, 32, 33, 34, 35, 36, 37, 38, 39],\n",
       "       [60, 61, 62, 63, 64, 65, 66, 67, 68, 69],\n",
       "       [90, 91, 92, 93, 94, 95, 96, 97, 98, 99]])"
      ]
     },
     "execution_count": 163,
     "metadata": {},
     "output_type": "execute_result"
    }
   ],
   "source": [
    "mat[0:10:3]"
   ]
  },
  {
   "cell_type": "code",
   "execution_count": 165,
   "id": "6c6b26f7-2daf-474e-a5d0-0fc38626096b",
   "metadata": {},
   "outputs": [
    {
     "data": {
      "text/plain": [
       "array([[ 0,  1,  2,  3,  4,  5,  6,  7,  8,  9],\n",
       "       [10, 11, 12, 13, 14, 15, 16, 17, 18, 19],\n",
       "       [20, 21, 22, 23, 24, 25, 26, 27, 28, 29],\n",
       "       [30, 31, 32, 33, 34, 35, 36, 37, 38, 39],\n",
       "       [40, 41, 42, 43, 44, 45, 46, 47, 48, 49],\n",
       "       [50, 51, 52, 53, 54, 55, 56, 57, 58, 59],\n",
       "       [60, 61, 62, 63, 64, 65, 66, 67, 68, 69],\n",
       "       [70, 71, 72, 73, 74, 75, 76, 77, 78, 79],\n",
       "       [80, 81, 82, 83, 84, 85, 86, 87, 88, 89],\n",
       "       [90, 91, 92, 93, 94, 95, 96, 97, 98, 99]])"
      ]
     },
     "execution_count": 165,
     "metadata": {},
     "output_type": "execute_result"
    }
   ],
   "source": [
    "mat"
   ]
  },
  {
   "cell_type": "code",
   "execution_count": 175,
   "id": "6d00bb38-4c3d-47e6-a1be-ad78d92a80ab",
   "metadata": {},
   "outputs": [
    {
     "data": {
      "text/plain": [
       "array([[22, 23],\n",
       "       [32, 33],\n",
       "       [42, 43],\n",
       "       [52, 53]])"
      ]
     },
     "execution_count": 175,
     "metadata": {},
     "output_type": "execute_result"
    }
   ],
   "source": [
    "mat[2:6,2:4]    # 2:6: This part specifies the rows to select.\n",
    "                # row:\n",
    "                # 2 is the starting row index (inclusive).\n",
    "                # 6 is the ending row index (exclusive).\n",
    "                # Therefore, this selects rows with indices 2, 3, 4, and 5.\n",
    "                # column:\n",
    "                # 2:4: This part specifies the columns to select.\n",
    "                # 2 is the starting column index (inclusive).\n",
    "                # 4 is the ending column index (exclusive).\n",
    "                # Therefore, this selects columns with indices 2 and 3."
   ]
  },
  {
   "cell_type": "code",
   "execution_count": 177,
   "id": "c044cc6a-a5c8-4ab8-a130-a747ecf5e649",
   "metadata": {},
   "outputs": [
    {
     "data": {
      "text/plain": [
       "array([[ 0,  1,  2,  3,  4,  5,  6,  7,  8,  9],\n",
       "       [10, 11, 12, 13, 14, 15, 16, 17, 18, 19],\n",
       "       [20, 21, 22, 23, 24, 25, 26, 27, 28, 29],\n",
       "       [30, 31, 32, 33, 34, 35, 36, 37, 38, 39],\n",
       "       [40, 41, 42, 43, 44, 45, 46, 47, 48, 49],\n",
       "       [50, 51, 52, 53, 54, 55, 56, 57, 58, 59],\n",
       "       [60, 61, 62, 63, 64, 65, 66, 67, 68, 69],\n",
       "       [70, 71, 72, 73, 74, 75, 76, 77, 78, 79],\n",
       "       [80, 81, 82, 83, 84, 85, 86, 87, 88, 89],\n",
       "       [90, 91, 92, 93, 94, 95, 96, 97, 98, 99]])"
      ]
     },
     "execution_count": 177,
     "metadata": {},
     "output_type": "execute_result"
    }
   ],
   "source": [
    "mat"
   ]
  },
  {
   "cell_type": "code",
   "execution_count": 185,
   "id": "a9891507-369f-4a62-a365-06df353cee5f",
   "metadata": {},
   "outputs": [
    {
     "data": {
      "text/plain": [
       "array([[44, 45, 46, 47],\n",
       "       [54, 55, 56, 57]])"
      ]
     },
     "execution_count": 185,
     "metadata": {},
     "output_type": "execute_result"
    }
   ],
   "source": [
    "mat[4:6,4:8]"
   ]
  },
  {
   "cell_type": "code",
   "execution_count": 187,
   "id": "6a701505-a059-4c18-b0b7-6e1d5abc34b8",
   "metadata": {},
   "outputs": [
    {
     "data": {
      "text/plain": [
       "array([[ 0,  1,  2,  3,  4,  5,  6,  7,  8,  9],\n",
       "       [10, 11, 12, 13, 14, 15, 16, 17, 18, 19],\n",
       "       [20, 21, 22, 23, 24, 25, 26, 27, 28, 29],\n",
       "       [30, 31, 32, 33, 34, 35, 36, 37, 38, 39],\n",
       "       [40, 41, 42, 43, 44, 45, 46, 47, 48, 49],\n",
       "       [50, 51, 52, 53, 54, 55, 56, 57, 58, 59],\n",
       "       [60, 61, 62, 63, 64, 65, 66, 67, 68, 69],\n",
       "       [70, 71, 72, 73, 74, 75, 76, 77, 78, 79],\n",
       "       [80, 81, 82, 83, 84, 85, 86, 87, 88, 89],\n",
       "       [90, 91, 92, 93, 94, 95, 96, 97, 98, 99]])"
      ]
     },
     "execution_count": 187,
     "metadata": {},
     "output_type": "execute_result"
    }
   ],
   "source": [
    "mat"
   ]
  },
  {
   "cell_type": "code",
   "execution_count": 189,
   "id": "d7ed6240-70a8-4407-aea0-b0c76865093b",
   "metadata": {},
   "outputs": [
    {
     "data": {
      "text/plain": [
       "array([[65, 66, 67],\n",
       "       [75, 76, 77],\n",
       "       [85, 86, 87]])"
      ]
     },
     "execution_count": 189,
     "metadata": {},
     "output_type": "execute_result"
    }
   ],
   "source": [
    "mat[6:9,5:8] # row=6:9, that is i want the values from 6th to 8th row. 9-1=8\n",
    "             # column=5:8 that is i want values from 5th to 7th column. 8-1=7"
   ]
  },
  {
   "cell_type": "markdown",
   "id": "ba111a50-74ad-4d68-8e4a-7a1ef59cee80",
   "metadata": {},
   "source": [
    "# Masking"
   ]
  },
  {
   "cell_type": "code",
   "execution_count": 192,
   "id": "d76191a3-f970-43dd-b1fd-3537a3a64e44",
   "metadata": {},
   "outputs": [
    {
     "data": {
      "text/plain": [
       "array([[ 0,  1,  2,  3,  4,  5,  6,  7,  8,  9],\n",
       "       [10, 11, 12, 13, 14, 15, 16, 17, 18, 19],\n",
       "       [20, 21, 22, 23, 24, 25, 26, 27, 28, 29],\n",
       "       [30, 31, 32, 33, 34, 35, 36, 37, 38, 39],\n",
       "       [40, 41, 42, 43, 44, 45, 46, 47, 48, 49],\n",
       "       [50, 51, 52, 53, 54, 55, 56, 57, 58, 59],\n",
       "       [60, 61, 62, 63, 64, 65, 66, 67, 68, 69],\n",
       "       [70, 71, 72, 73, 74, 75, 76, 77, 78, 79],\n",
       "       [80, 81, 82, 83, 84, 85, 86, 87, 88, 89],\n",
       "       [90, 91, 92, 93, 94, 95, 96, 97, 98, 99]])"
      ]
     },
     "execution_count": 192,
     "metadata": {},
     "output_type": "execute_result"
    }
   ],
   "source": [
    "mat"
   ]
  },
  {
   "cell_type": "code",
   "execution_count": 194,
   "id": "7d84a314-f93c-44d0-9b0a-abf77281c22a",
   "metadata": {},
   "outputs": [
    {
     "data": {
      "text/plain": [
       "2999491873168"
      ]
     },
     "execution_count": 194,
     "metadata": {},
     "output_type": "execute_result"
    }
   ],
   "source": [
    "id(mat)"
   ]
  },
  {
   "cell_type": "code",
   "execution_count": 198,
   "id": "314af560-a7be-41d4-9301-27970dba6dd6",
   "metadata": {},
   "outputs": [
    {
     "data": {
      "text/plain": [
       "array([[ True,  True,  True,  True,  True,  True,  True,  True,  True,\n",
       "         True],\n",
       "       [ True,  True,  True,  True,  True,  True,  True,  True,  True,\n",
       "         True],\n",
       "       [ True,  True,  True,  True,  True,  True,  True,  True,  True,\n",
       "         True],\n",
       "       [ True,  True,  True,  True,  True,  True,  True,  True,  True,\n",
       "         True],\n",
       "       [ True,  True,  True,  True,  True,  True,  True,  True,  True,\n",
       "         True],\n",
       "       [False, False, False, False, False, False, False, False, False,\n",
       "        False],\n",
       "       [False, False, False, False, False, False, False, False, False,\n",
       "        False],\n",
       "       [False, False, False, False, False, False, False, False, False,\n",
       "        False],\n",
       "       [False, False, False, False, False, False, False, False, False,\n",
       "        False],\n",
       "       [False, False, False, False, False, False, False, False, False,\n",
       "        False]])"
      ]
     },
     "execution_count": 198,
     "metadata": {},
     "output_type": "execute_result"
    }
   ],
   "source": [
    "mat<50 # It gives boolean expression as \"True\" upto 49 numbers."
   ]
  },
  {
   "cell_type": "code",
   "execution_count": 200,
   "id": "3b57a4fa-f241-45d9-a1db-b6aeb226102a",
   "metadata": {},
   "outputs": [
    {
     "data": {
      "text/plain": [
       "array([[ True,  True,  True,  True,  True,  True,  True,  True,  True,\n",
       "         True],\n",
       "       [ True,  True,  True,  True,  True,  True,  True,  True,  True,\n",
       "         True],\n",
       "       [ True,  True,  True,  True,  True,  True,  True,  True,  True,\n",
       "         True],\n",
       "       [ True,  True,  True,  True,  True,  True,  True,  True,  True,\n",
       "         True],\n",
       "       [ True,  True,  True,  True,  True,  True,  True,  True,  True,\n",
       "         True],\n",
       "       [ True, False, False, False, False, False, False, False, False,\n",
       "        False],\n",
       "       [False, False, False, False, False, False, False, False, False,\n",
       "        False],\n",
       "       [False, False, False, False, False, False, False, False, False,\n",
       "        False],\n",
       "       [False, False, False, False, False, False, False, False, False,\n",
       "        False],\n",
       "       [False, False, False, False, False, False, False, False, False,\n",
       "        False]])"
      ]
     },
     "execution_count": 200,
     "metadata": {},
     "output_type": "execute_result"
    }
   ],
   "source": [
    "mat<=50 # Now 50 also included."
   ]
  },
  {
   "cell_type": "code",
   "execution_count": 202,
   "id": "9226f4b6-0d2e-421b-bc8c-e801afcd2a3a",
   "metadata": {},
   "outputs": [
    {
     "data": {
      "text/plain": [
       "array([ 0,  1,  2,  3,  4,  5,  6,  7,  8,  9, 10, 11, 12, 13, 14, 15, 16,\n",
       "       17, 18, 19, 20, 21, 22, 23, 24, 25, 26, 27, 28, 29, 30, 31, 32, 33,\n",
       "       34, 35, 36, 37, 38, 39, 40, 41, 42, 43, 44, 45, 46, 47, 48, 49])"
      ]
     },
     "execution_count": 202,
     "metadata": {},
     "output_type": "execute_result"
    }
   ],
   "source": [
    "mat[mat<50] # To get integer values. we need to use extra \"mat\""
   ]
  },
  {
   "cell_type": "code",
   "execution_count": 204,
   "id": "8ab5d7d5-a6d4-49ed-b1ca-35072dd09f1f",
   "metadata": {},
   "outputs": [
    {
     "data": {
      "text/plain": [
       "array([ 0,  1,  2,  3,  4,  5,  6,  7,  8,  9, 10, 11, 12, 13, 14, 15, 16,\n",
       "       17, 18, 19, 20, 21, 22, 23, 24, 25, 26, 27, 28, 29, 30, 31, 32, 33,\n",
       "       34, 35, 36, 37, 38, 39, 40, 41, 42, 43, 44, 45, 46, 47, 48, 49, 50])"
      ]
     },
     "execution_count": 204,
     "metadata": {},
     "output_type": "execute_result"
    }
   ],
   "source": [
    "mat[mat<=50]"
   ]
  },
  {
   "cell_type": "code",
   "execution_count": 206,
   "id": "e7fc896b-1e4d-40b7-8481-976479979f85",
   "metadata": {},
   "outputs": [
    {
     "data": {
      "text/plain": [
       "array([50])"
      ]
     },
     "execution_count": 206,
     "metadata": {},
     "output_type": "execute_result"
    }
   ],
   "source": [
    "mat[mat==50]"
   ]
  },
  {
   "cell_type": "code",
   "execution_count": 208,
   "id": "a20ae4df-ebd9-4a0d-9a39-66be65ca20f5",
   "metadata": {},
   "outputs": [
    {
     "data": {
      "text/plain": [
       "array([51, 52, 53, 54, 55, 56, 57, 58, 59, 60, 61, 62, 63, 64, 65, 66, 67,\n",
       "       68, 69, 70, 71, 72, 73, 74, 75, 76, 77, 78, 79, 80, 81, 82, 83, 84,\n",
       "       85, 86, 87, 88, 89, 90, 91, 92, 93, 94, 95, 96, 97, 98, 99])"
      ]
     },
     "execution_count": 208,
     "metadata": {},
     "output_type": "execute_result"
    }
   ],
   "source": [
    "mat[mat>50]"
   ]
  },
  {
   "cell_type": "code",
   "execution_count": null,
   "id": "57e66f27-cd41-4ce6-a019-ceaea25b09eb",
   "metadata": {},
   "outputs": [],
   "source": []
  }
 ],
 "metadata": {
  "kernelspec": {
   "display_name": "Python [conda env:base] *",
   "language": "python",
   "name": "conda-base-py"
  },
  "language_info": {
   "codemirror_mode": {
    "name": "ipython",
    "version": 3
   },
   "file_extension": ".py",
   "mimetype": "text/x-python",
   "name": "python",
   "nbconvert_exporter": "python",
   "pygments_lexer": "ipython3",
   "version": "3.12.7"
  }
 },
 "nbformat": 4,
 "nbformat_minor": 5
}
